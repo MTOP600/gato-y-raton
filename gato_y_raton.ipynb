{
 "cells": [
  {
   "cell_type": "markdown",
   "id": "a6b4c32b",
   "metadata": {},
   "source": [
    "## IMPORTAR LAS LIBRERIAS\n"
   ]
  },
  {
   "cell_type": "code",
   "execution_count": 1,
   "id": "8cc33469",
   "metadata": {},
   "outputs": [],
   "source": [
    "import numpy as np, os, time, random, math\n",
    "from IPython.display import clear_output\n",
    "from collections import deque\n",
    "import time"
   ]
  },
  {
   "cell_type": "markdown",
   "id": "7a46c90e",
   "metadata": {},
   "source": [
    "## TABLERO DE JUEGO"
   ]
  },
  {
   "cell_type": "code",
   "execution_count": 2,
   "id": "7f608104",
   "metadata": {},
   "outputs": [],
   "source": [
    "tablero = np.zeros((10,10),dtype = int)\n",
    "posicion_actual_gato = [1,1]\n",
    "posicion_actual_raton = [8,8]"
   ]
  },
  {
   "cell_type": "markdown",
   "id": "60633f9a",
   "metadata": {},
   "source": [
    "## DISTANCIA DE MANHHATTAN\n"
   ]
  },
  {
   "cell_type": "code",
   "execution_count": 3,
   "id": "9cefa982",
   "metadata": {},
   "outputs": [],
   "source": [
    "def calcular_distancia_manhhattan(posicion_posible_gato, posicion_actual_raton):\n",
    "    coordenadas_gato = np.array(posicion_posible_gato)\n",
    "    coordenadas_raton = np.array(posicion_actual_raton)\n",
    "    distancia = np.sum(np.abs(coordenadas_gato - coordenadas_raton))\n",
    "    return(distancia)"
   ]
  },
  {
   "cell_type": "code",
   "execution_count": 4,
   "id": "6b029199",
   "metadata": {},
   "outputs": [],
   "source": [
    "#otra forma\n",
    "# def funcion_de_evaluacion(posicion_gato, posicion_raton):\n",
    "#     distancia = math.sqrt((posicion_gato[0] - posicion_raton[0])**2 + (posicion_gato[1] - posicion_raton[1])**2)"
   ]
  },
  {
   "cell_type": "markdown",
   "id": "97e3fc12",
   "metadata": {},
   "source": [
    "## FUNCION PARA VER LOS MOVIMIENTOS QUE PUEDE HACER EL RATON\n"
   ]
  },
  {
   "cell_type": "code",
   "execution_count": 5,
   "id": "1907e40b",
   "metadata": {},
   "outputs": [],
   "source": [
    "def movimientos_posibles_raton(tablero_actual, posicion_actual):\n",
    "    direcciones_disponibles = [\n",
    "        (1,0), #x aumenta en 1, y se queda igual (se mueve a la derecha)\n",
    "        (-1,0), #x disminuye en 1, y se queda igual (se mueve a la izquierda)\n",
    "        (0,1), #y aumenta en 1, x se queda igual (se mueve hacia arriba)\n",
    "        (0,-1), #y disminuye en 1, x se queda igual (se mueve hacia abajo)\n",
    "        (1,1), #x e y aumentan en 1 (se mueve ariiba a la derecha)\n",
    "        (1,-1), # x aumenta 1 e y disminuye 1 (se mueve abajo a la derecha)\n",
    "        (-1,-1), # x e y disminuyen en 1, (se mueve abajo a la izquierda)\n",
    "        (-1,1) # x disminuye en 1 e y aumenta en 1 (se mueve arriba a la izquerda)\n",
    "    ]\n",
    "    \n",
    "\n",
    "    lista_de_movimientos_disponibles = []\n",
    "    \n",
    "    for dx, dy in direcciones_disponibles:\n",
    "        posible_movimiento_x = posicion_actual[0] + dx\n",
    "        posible_movimiento_y = posicion_actual[1] + dy\n",
    "        if posible_movimiento_x >= 0:\n",
    "            if posible_movimiento_x < 10:\n",
    "                if posible_movimiento_y >= 0:\n",
    "                    if posible_movimiento_y < 10:\n",
    "                        if tablero_actual[ posible_movimiento_x , posible_movimiento_y ] != 9:\n",
    "                            lista_de_movimientos_disponibles.append((posible_movimiento_x, posible_movimiento_y))\n",
    "    return(lista_de_movimientos_disponibles)\n"
   ]
  },
  {
   "cell_type": "markdown",
   "id": "abc5a193",
   "metadata": {},
   "source": [
    "## FUNCION PARA VER LOS MOVIMIENTOS QUE PUEDE HACER EL GATO\n"
   ]
  },
  {
   "cell_type": "code",
   "execution_count": 6,
   "id": "e9d36f35",
   "metadata": {},
   "outputs": [],
   "source": [
    "def movimientos_posibles_gato(tablero, posicion_actual_gato):\n",
    "    direcciones_disponibles = [\n",
    "        (2,0),\n",
    "        (1,0),\n",
    "        (-2,0),\n",
    "        (-1,0),\n",
    "        (0,2),\n",
    "        (0,1),\n",
    "        (0,-2),\n",
    "        (0,-1)\n",
    "    ]\n",
    "    \n",
    "    lista_de_direcciones_disponibles = []\n",
    "    for dx, dy in direcciones_disponibles:\n",
    "        posible_movimiento_x = posicion_actual_gato[0] + dx\n",
    "        posible_movimiento_y = posicion_actual_gato[1] + dy\n",
    "\n",
    "        \n",
    "            \n",
    "\n",
    "        if posible_movimiento_x >= 0:\n",
    "            if posible_movimiento_x < 10:\n",
    "                if posible_movimiento_y >= 0:\n",
    "                    if posible_movimiento_y < 10:\n",
    "                        if tablero[ posible_movimiento_x , posible_movimiento_y ] != 9:\n",
    "                            if abs(dx) == 2 or abs(dy) == 2:\n",
    "                                intermedio_x = posicion_actual_gato[0] + (dx // 2)\n",
    "                                intermedio_y = posicion_actual_gato[1] + (dy // 2)\n",
    "                                if tablero[intermedio_x, intermedio_y] == 9:\n",
    "                                    continue\n",
    "                            \n",
    "                            lista_de_direcciones_disponibles.append((posible_movimiento_x, posible_movimiento_y))\n",
    "    return lista_de_direcciones_disponibles"
   ]
  },
  {
   "cell_type": "markdown",
   "id": "67c91ba0",
   "metadata": {},
   "source": [
    "## GATO QUE PERSIGUE LINEALMENTE"
   ]
  },
  {
   "cell_type": "code",
   "execution_count": 7,
   "id": "3454a732",
   "metadata": {},
   "outputs": [],
   "source": [
    "def gato_persigue_linealmente(tablero, posicion_actual_gato, posicion_actual_raton):\n",
    "    movimientos_posibles = movimientos_posibles_gato(tablero, posicion_actual_gato)\n",
    "    mejor_movimiento = posicion_actual_gato\n",
    "    mejor_distancia = float('inf')\n",
    "    for movimiento in movimientos_posibles:\n",
    "\n",
    "        distancia = calcular_distancia_manhhattan(movimiento, posicion_actual_raton)\n",
    "        if distancia < mejor_distancia:\n",
    "            mejor_distancia = distancia\n",
    "            mejor_movimiento = movimiento\n",
    "\n",
    "    return mejor_movimiento\n",
    "        \n",
    "    \n",
    "    "
   ]
  },
  {
   "cell_type": "markdown",
   "id": "fa4ba714",
   "metadata": {},
   "source": [
    "## RATON QUE SE MUEVE ALEATORIAMENTE\n"
   ]
  },
  {
   "cell_type": "code",
   "execution_count": 8,
   "id": "7ebdecb2",
   "metadata": {},
   "outputs": [],
   "source": [
    "def movimiento_aleatorio_raton(tablero, posicion_actual_raton):\n",
    "    movimientos_posibles = movimientos_posibles_raton(tablero,posicion_actual_raton)\n",
    "    movimiento_elegido = random.choice(movimientos_posibles)\n",
    "    return(movimiento_elegido[0], movimiento_elegido[1])"
   ]
  },
  {
   "cell_type": "markdown",
   "id": "053aae5d",
   "metadata": {},
   "source": [
    "## PARA HALLAR EL CAMINO"
   ]
  },
  {
   "cell_type": "code",
   "execution_count": 9,
   "id": "a9822267",
   "metadata": {},
   "outputs": [],
   "source": [
    "def movimientos_de_busqueda_posibles(pos_actual, tablero):\n",
    "    movimientos_disponibles = [(1,0),(-1,0),(0,1),(0,-1)]\n",
    "    movimientos_posibles = []\n",
    "    for mx, my in movimientos_disponibles:\n",
    "        posible_x = pos_actual[0] + mx\n",
    "        posible_y = pos_actual[1] + my\n",
    "        if tablero[posible_x, posible_y] != 9:\n",
    "            movimientos_posibles.append((posible_x, posible_y))\n",
    "    return movimientos_posibles"
   ]
  },
  {
   "cell_type": "markdown",
   "id": "31705df0",
   "metadata": {},
   "source": [
    "## DISTANCIA BFS\n"
   ]
  },
  {
   "cell_type": "code",
   "execution_count": 10,
   "id": "6c42c376",
   "metadata": {},
   "outputs": [],
   "source": [
    "def bfs(inicio, objetivo, tablero):\n",
    "    ## iniciamos una cola que contenga las posiciones y la distancia recorrida hasta ese momento\n",
    "    cola = deque([(inicio, 0)])\n",
    "\n",
    "    #guardamos lo que ya se visito para evitar volver por ahi\n",
    "    visitadas = {inicio}\n",
    "    distancia = 0\n",
    "    while cola:\n",
    "        (coordenadas, distancia) = cola.popleft()\n",
    "        if coordenadas == objetivo:\n",
    "\n",
    "            return distancia\n",
    "            \n",
    "        else:\n",
    "            movimientos_disponibles = movimientos_de_busqueda_posibles(coordenadas, tablero)\n",
    "            for mx, my in movimientos_disponibles:\n",
    "                nuevo_movimiento = (mx, my)\n",
    "                if nuevo_movimiento in visitadas:\n",
    "                    continue\n",
    "                else:\n",
    "                    visitadas.add(nuevo_movimiento)\n",
    "                    nueva_distancia = distancia + 1\n",
    "                    cola.append((nuevo_movimiento, nueva_distancia))\n",
    "\n",
    "                \n",
    "\n"
   ]
  },
  {
   "cell_type": "markdown",
   "id": "e6553999",
   "metadata": {},
   "source": [
    "## MINIMAX\n"
   ]
  },
  {
   "cell_type": "code",
   "execution_count": 11,
   "id": "7b31b012",
   "metadata": {},
   "outputs": [],
   "source": [
    "def minimax(tablero, profundidad, es_turno_del_gato, posicion_gato, posicion_raton):\n",
    "    \n",
    "    if posicion_gato == posicion_raton:\n",
    "        return -10000\n",
    "    if profundidad == 0:\n",
    "        funcion_de_evaluacion = bfs(posicion_gato, posicion_raton, tablero)\n",
    "        return funcion_de_evaluacion\n",
    "    if es_turno_del_gato: #jugador q minimiza\n",
    "        mejor_valor = float('inf')\n",
    "        posiciones_posibles_gato = movimientos_posibles_gato(tablero, posicion_gato)\n",
    "        for posible_posicion_gato in posiciones_posibles_gato:\n",
    "            valor = minimax(\n",
    "                tablero,\n",
    "                profundidad - 1,\n",
    "                False,\n",
    "                posible_posicion_gato,\n",
    "                posicion_raton\n",
    "            )\n",
    "            mejor_valor = min(mejor_valor, valor)\n",
    "        return mejor_valor\n",
    "    else: #jugador que maximiza\n",
    "        mejor_valor = float('-inf')\n",
    "        posiciones_posibles = movimientos_posibles_raton(tablero, posicion_raton)\n",
    "        for posible_posicion_raton in posiciones_posibles:\n",
    "            valor = minimax(\n",
    "                tablero,\n",
    "                profundidad -1,\n",
    "                True,\n",
    "                posicion_gato,\n",
    "                posible_posicion_raton,\n",
    "                \n",
    "            )\n",
    "            mejor_valor = max(mejor_valor, valor)\n",
    "        return mejor_valor\n"
   ]
  },
  {
   "cell_type": "markdown",
   "id": "a4b1cf22",
   "metadata": {},
   "source": [
    "## MEJOR MOVIMIENTO PARA EL GATO"
   ]
  },
  {
   "cell_type": "code",
   "execution_count": 12,
   "id": "ccd6e5fb",
   "metadata": {},
   "outputs": [],
   "source": [
    "def mejor_movimiento_gato(tablero, pos_gato, pos_raton):\n",
    "    direcciones_disponibles = movimientos_posibles_gato(tablero, pos_gato)\n",
    "    mejor_puntaje = float('inf')\n",
    "    posicion_elegida = []\n",
    "    for posicion in direcciones_disponibles:\n",
    "        puntaje = minimax(tablero, 4, True, posicion, pos_raton)\n",
    "        if mejor_puntaje > puntaje:\n",
    "            mejor_puntaje = puntaje\n",
    "            posicion_elegida = posicion\n",
    "    return posicion_elegida\n",
    "\n",
    "    \n"
   ]
  },
  {
   "cell_type": "code",
   "execution_count": 13,
   "id": "a85dc97e",
   "metadata": {},
   "outputs": [],
   "source": [
    "def mejor_movimiento_raton(tablero, pos_gato, pos_raton):\n",
    "    direcciones_disponibles = movimientos_posibles_raton(tablero, pos_raton)\n",
    "    mejor_puntaje = float('-inf')\n",
    "    posicion_elegida = []\n",
    "    for posicion in direcciones_disponibles:\n",
    "        puntaje = minimax(tablero, 4, False, pos_gato, posicion,)\n",
    "        if mejor_puntaje < puntaje:\n",
    "            mejor_puntaje = puntaje\n",
    "            posicion_elegida = posicion\n",
    "    return posicion_elegida"
   ]
  },
  {
   "cell_type": "markdown",
   "id": "39366db8",
   "metadata": {},
   "source": [
    "## MODO DE JUEGO IA BASICA\n"
   ]
  },
  {
   "cell_type": "code",
   "execution_count": 14,
   "id": "1ad558b6",
   "metadata": {},
   "outputs": [
    {
     "name": "stdout",
     "output_type": "stream",
     "text": [
      "🧱 🧱 🧱 🧱 🧱 🧱 🧱 🧱 🧱 🧱\n",
      "🧱 ⬛ ⬛ ⬛ ⬛ ⬛ ⬛ ⬛ ⬛ 🧱\n",
      "🧱 ⬛ 🧱 ⬛ 🧱 ⬛ 🧱 ⬛ ⬛ 🧱\n",
      "🧱 ⬛ 🧱 ⬛ ⬛ ⬛ 🧱 🧱 ⬛ 🧱\n",
      "🧱 🧱 ⬛ 🐁 🧱 🧱 ⬛ ⬛ ⬛ 🧱\n",
      "🧱 ⬛ 🧱 🧱 ⬛ ⬛ ⬛ 🧱 🐈 🧱\n",
      "🧱 ⬛ ⬛ ⬛ ⬛ 🧱 ⬛ ⬛ ⬛ 🧱\n",
      "🧱 🧱 ⬛ 🧱 ⬛ ⬛ ⬛ 🧱 ⬛ 🧱\n",
      "🧱 ⬛ ⬛ ⬛ ⬛ 🧱 ⬛ ⬛ ⬛ 🧱\n",
      "🧱 🧱 🧱 🧱 🧱 🧱 🧱 🧱 🧱 🧱\n"
     ]
    },
    {
     "ename": "KeyboardInterrupt",
     "evalue": "",
     "output_type": "error",
     "traceback": [
      "\u001b[31m---------------------------------------------------------------------------\u001b[39m",
      "\u001b[31mKeyboardInterrupt\u001b[39m                         Traceback (most recent call last)",
      "\u001b[36mCell\u001b[39m\u001b[36m \u001b[39m\u001b[32mIn[14]\u001b[39m\u001b[32m, line 49\u001b[39m\n\u001b[32m     46\u001b[39m nueva_posicion_raton = mejor_movimiento_raton(tablero, posicion_actual_gato, posicion_actual_raton)\n\u001b[32m     47\u001b[39m posicion_actual_raton = nueva_posicion_raton\n\u001b[32m---> \u001b[39m\u001b[32m49\u001b[39m nueva_posicion_gato = \u001b[43mmejor_movimiento_gato\u001b[49m\u001b[43m(\u001b[49m\u001b[43mtablero\u001b[49m\u001b[43m,\u001b[49m\u001b[43m \u001b[49m\u001b[43mposicion_actual_gato\u001b[49m\u001b[43m,\u001b[49m\u001b[43m \u001b[49m\u001b[43mposicion_actual_raton\u001b[49m\u001b[43m)\u001b[49m\n\u001b[32m     50\u001b[39m posicion_actual_gato = nueva_posicion_gato\n\u001b[32m     51\u001b[39m \u001b[38;5;66;03m# nueva_posicion_raton = movimiento_aleatorio_raton(tablero, posicion_actual_raton)\u001b[39;00m\n\u001b[32m     52\u001b[39m \u001b[38;5;66;03m# posicion_actual_raton = list(nueva_posicion_raton)\u001b[39;00m\n\u001b[32m     53\u001b[39m \n\u001b[32m   (...)\u001b[39m\u001b[32m     58\u001b[39m \n\u001b[32m     59\u001b[39m \u001b[38;5;66;03m#     break\u001b[39;00m\n",
      "\u001b[36mCell\u001b[39m\u001b[36m \u001b[39m\u001b[32mIn[12]\u001b[39m\u001b[32m, line 6\u001b[39m, in \u001b[36mmejor_movimiento_gato\u001b[39m\u001b[34m(tablero, pos_gato, pos_raton)\u001b[39m\n\u001b[32m      4\u001b[39m posicion_elegida = []\n\u001b[32m      5\u001b[39m \u001b[38;5;28;01mfor\u001b[39;00m posicion \u001b[38;5;129;01min\u001b[39;00m direcciones_disponibles:\n\u001b[32m----> \u001b[39m\u001b[32m6\u001b[39m     puntaje = \u001b[43mminimax\u001b[49m\u001b[43m(\u001b[49m\u001b[43mtablero\u001b[49m\u001b[43m,\u001b[49m\u001b[43m \u001b[49m\u001b[32;43m4\u001b[39;49m\u001b[43m,\u001b[49m\u001b[43m \u001b[49m\u001b[38;5;28;43;01mTrue\u001b[39;49;00m\u001b[43m,\u001b[49m\u001b[43m \u001b[49m\u001b[43mposicion\u001b[49m\u001b[43m,\u001b[49m\u001b[43m \u001b[49m\u001b[43mpos_raton\u001b[49m\u001b[43m)\u001b[49m\n\u001b[32m      7\u001b[39m     \u001b[38;5;28;01mif\u001b[39;00m mejor_puntaje > puntaje:\n\u001b[32m      8\u001b[39m         mejor_puntaje = puntaje\n",
      "\u001b[36mCell\u001b[39m\u001b[36m \u001b[39m\u001b[32mIn[11]\u001b[39m\u001b[32m, line 12\u001b[39m, in \u001b[36mminimax\u001b[39m\u001b[34m(tablero, profundidad, es_turno_del_gato, posicion_gato, posicion_raton)\u001b[39m\n\u001b[32m     10\u001b[39m posiciones_posibles_gato = movimientos_posibles_gato(tablero, posicion_gato)\n\u001b[32m     11\u001b[39m \u001b[38;5;28;01mfor\u001b[39;00m posible_posicion_gato \u001b[38;5;129;01min\u001b[39;00m posiciones_posibles_gato:\n\u001b[32m---> \u001b[39m\u001b[32m12\u001b[39m     valor = \u001b[43mminimax\u001b[49m\u001b[43m(\u001b[49m\n\u001b[32m     13\u001b[39m \u001b[43m        \u001b[49m\u001b[43mtablero\u001b[49m\u001b[43m,\u001b[49m\n\u001b[32m     14\u001b[39m \u001b[43m        \u001b[49m\u001b[43mprofundidad\u001b[49m\u001b[43m \u001b[49m\u001b[43m-\u001b[49m\u001b[43m \u001b[49m\u001b[32;43m1\u001b[39;49m\u001b[43m,\u001b[49m\n\u001b[32m     15\u001b[39m \u001b[43m        \u001b[49m\u001b[38;5;28;43;01mFalse\u001b[39;49;00m\u001b[43m,\u001b[49m\n\u001b[32m     16\u001b[39m \u001b[43m        \u001b[49m\u001b[43mposible_posicion_gato\u001b[49m\u001b[43m,\u001b[49m\n\u001b[32m     17\u001b[39m \u001b[43m        \u001b[49m\u001b[43mposicion_raton\u001b[49m\n\u001b[32m     18\u001b[39m \u001b[43m    \u001b[49m\u001b[43m)\u001b[49m\n\u001b[32m     19\u001b[39m     mejor_valor = \u001b[38;5;28mmin\u001b[39m(mejor_valor, valor)\n\u001b[32m     20\u001b[39m \u001b[38;5;28;01mreturn\u001b[39;00m mejor_valor\n",
      "\u001b[36mCell\u001b[39m\u001b[36m \u001b[39m\u001b[32mIn[11]\u001b[39m\u001b[32m, line 25\u001b[39m, in \u001b[36mminimax\u001b[39m\u001b[34m(tablero, profundidad, es_turno_del_gato, posicion_gato, posicion_raton)\u001b[39m\n\u001b[32m     23\u001b[39m posiciones_posibles = movimientos_posibles_raton(tablero, posicion_raton)\n\u001b[32m     24\u001b[39m \u001b[38;5;28;01mfor\u001b[39;00m posible_posicion_raton \u001b[38;5;129;01min\u001b[39;00m posiciones_posibles:\n\u001b[32m---> \u001b[39m\u001b[32m25\u001b[39m     valor = \u001b[43mminimax\u001b[49m\u001b[43m(\u001b[49m\n\u001b[32m     26\u001b[39m \u001b[43m        \u001b[49m\u001b[43mtablero\u001b[49m\u001b[43m,\u001b[49m\n\u001b[32m     27\u001b[39m \u001b[43m        \u001b[49m\u001b[43mprofundidad\u001b[49m\u001b[43m \u001b[49m\u001b[43m-\u001b[49m\u001b[32;43m1\u001b[39;49m\u001b[43m,\u001b[49m\n\u001b[32m     28\u001b[39m \u001b[43m        \u001b[49m\u001b[38;5;28;43;01mTrue\u001b[39;49;00m\u001b[43m,\u001b[49m\n\u001b[32m     29\u001b[39m \u001b[43m        \u001b[49m\u001b[43mposicion_gato\u001b[49m\u001b[43m,\u001b[49m\n\u001b[32m     30\u001b[39m \u001b[43m        \u001b[49m\u001b[43mposible_posicion_raton\u001b[49m\u001b[43m,\u001b[49m\n\u001b[32m     31\u001b[39m \n\u001b[32m     32\u001b[39m \u001b[43m    \u001b[49m\u001b[43m)\u001b[49m\n\u001b[32m     33\u001b[39m     mejor_valor = \u001b[38;5;28mmax\u001b[39m(mejor_valor, valor)\n\u001b[32m     34\u001b[39m \u001b[38;5;28;01mreturn\u001b[39;00m mejor_valor\n",
      "\u001b[36mCell\u001b[39m\u001b[36m \u001b[39m\u001b[32mIn[11]\u001b[39m\u001b[32m, line 12\u001b[39m, in \u001b[36mminimax\u001b[39m\u001b[34m(tablero, profundidad, es_turno_del_gato, posicion_gato, posicion_raton)\u001b[39m\n\u001b[32m     10\u001b[39m posiciones_posibles_gato = movimientos_posibles_gato(tablero, posicion_gato)\n\u001b[32m     11\u001b[39m \u001b[38;5;28;01mfor\u001b[39;00m posible_posicion_gato \u001b[38;5;129;01min\u001b[39;00m posiciones_posibles_gato:\n\u001b[32m---> \u001b[39m\u001b[32m12\u001b[39m     valor = \u001b[43mminimax\u001b[49m\u001b[43m(\u001b[49m\n\u001b[32m     13\u001b[39m \u001b[43m        \u001b[49m\u001b[43mtablero\u001b[49m\u001b[43m,\u001b[49m\n\u001b[32m     14\u001b[39m \u001b[43m        \u001b[49m\u001b[43mprofundidad\u001b[49m\u001b[43m \u001b[49m\u001b[43m-\u001b[49m\u001b[43m \u001b[49m\u001b[32;43m1\u001b[39;49m\u001b[43m,\u001b[49m\n\u001b[32m     15\u001b[39m \u001b[43m        \u001b[49m\u001b[38;5;28;43;01mFalse\u001b[39;49;00m\u001b[43m,\u001b[49m\n\u001b[32m     16\u001b[39m \u001b[43m        \u001b[49m\u001b[43mposible_posicion_gato\u001b[49m\u001b[43m,\u001b[49m\n\u001b[32m     17\u001b[39m \u001b[43m        \u001b[49m\u001b[43mposicion_raton\u001b[49m\n\u001b[32m     18\u001b[39m \u001b[43m    \u001b[49m\u001b[43m)\u001b[49m\n\u001b[32m     19\u001b[39m     mejor_valor = \u001b[38;5;28mmin\u001b[39m(mejor_valor, valor)\n\u001b[32m     20\u001b[39m \u001b[38;5;28;01mreturn\u001b[39;00m mejor_valor\n",
      "\u001b[36mCell\u001b[39m\u001b[36m \u001b[39m\u001b[32mIn[11]\u001b[39m\u001b[32m, line 25\u001b[39m, in \u001b[36mminimax\u001b[39m\u001b[34m(tablero, profundidad, es_turno_del_gato, posicion_gato, posicion_raton)\u001b[39m\n\u001b[32m     23\u001b[39m posiciones_posibles = movimientos_posibles_raton(tablero, posicion_raton)\n\u001b[32m     24\u001b[39m \u001b[38;5;28;01mfor\u001b[39;00m posible_posicion_raton \u001b[38;5;129;01min\u001b[39;00m posiciones_posibles:\n\u001b[32m---> \u001b[39m\u001b[32m25\u001b[39m     valor = \u001b[43mminimax\u001b[49m\u001b[43m(\u001b[49m\n\u001b[32m     26\u001b[39m \u001b[43m        \u001b[49m\u001b[43mtablero\u001b[49m\u001b[43m,\u001b[49m\n\u001b[32m     27\u001b[39m \u001b[43m        \u001b[49m\u001b[43mprofundidad\u001b[49m\u001b[43m \u001b[49m\u001b[43m-\u001b[49m\u001b[32;43m1\u001b[39;49m\u001b[43m,\u001b[49m\n\u001b[32m     28\u001b[39m \u001b[43m        \u001b[49m\u001b[38;5;28;43;01mTrue\u001b[39;49;00m\u001b[43m,\u001b[49m\n\u001b[32m     29\u001b[39m \u001b[43m        \u001b[49m\u001b[43mposicion_gato\u001b[49m\u001b[43m,\u001b[49m\n\u001b[32m     30\u001b[39m \u001b[43m        \u001b[49m\u001b[43mposible_posicion_raton\u001b[49m\u001b[43m,\u001b[49m\n\u001b[32m     31\u001b[39m \n\u001b[32m     32\u001b[39m \u001b[43m    \u001b[49m\u001b[43m)\u001b[49m\n\u001b[32m     33\u001b[39m     mejor_valor = \u001b[38;5;28mmax\u001b[39m(mejor_valor, valor)\n\u001b[32m     34\u001b[39m \u001b[38;5;28;01mreturn\u001b[39;00m mejor_valor\n",
      "\u001b[36mCell\u001b[39m\u001b[36m \u001b[39m\u001b[32mIn[11]\u001b[39m\u001b[32m, line 6\u001b[39m, in \u001b[36mminimax\u001b[39m\u001b[34m(tablero, profundidad, es_turno_del_gato, posicion_gato, posicion_raton)\u001b[39m\n\u001b[32m      4\u001b[39m     \u001b[38;5;28;01mreturn\u001b[39;00m -\u001b[32m10000\u001b[39m\n\u001b[32m      5\u001b[39m \u001b[38;5;28;01mif\u001b[39;00m profundidad == \u001b[32m0\u001b[39m:\n\u001b[32m----> \u001b[39m\u001b[32m6\u001b[39m     funcion_de_evaluacion = \u001b[43mbfs\u001b[49m\u001b[43m(\u001b[49m\u001b[43mposicion_gato\u001b[49m\u001b[43m,\u001b[49m\u001b[43m \u001b[49m\u001b[43mposicion_raton\u001b[49m\u001b[43m,\u001b[49m\u001b[43m \u001b[49m\u001b[43mtablero\u001b[49m\u001b[43m)\u001b[49m\n\u001b[32m      7\u001b[39m     \u001b[38;5;28;01mreturn\u001b[39;00m funcion_de_evaluacion\n\u001b[32m      8\u001b[39m \u001b[38;5;28;01mif\u001b[39;00m es_turno_del_gato: \u001b[38;5;66;03m#jugador q minimiza\u001b[39;00m\n",
      "\u001b[36mCell\u001b[39m\u001b[36m \u001b[39m\u001b[32mIn[10]\u001b[39m\u001b[32m, line 21\u001b[39m, in \u001b[36mbfs\u001b[39m\u001b[34m(inicio, objetivo, tablero)\u001b[39m\n\u001b[32m     19\u001b[39m     \u001b[38;5;28;01mcontinue\u001b[39;00m\n\u001b[32m     20\u001b[39m \u001b[38;5;28;01melse\u001b[39;00m:\n\u001b[32m---> \u001b[39m\u001b[32m21\u001b[39m     visitadas.add(nuevo_movimiento)\n\u001b[32m     22\u001b[39m     nueva_distancia = distancia + \u001b[32m1\u001b[39m\n\u001b[32m     23\u001b[39m     cola.append((nuevo_movimiento, nueva_distancia))\n",
      "\u001b[31mKeyboardInterrupt\u001b[39m: "
     ]
    }
   ],
   "source": [
    "while True:\n",
    "    #limpiamos la consola, pero solo anda para python puro\n",
    "    # os.system(\n",
    "    #     'cls' if os.name == 'nt'\n",
    "    #     else 'clear'\n",
    "    # )\n",
    "    clear_output(wait=True)\n",
    "    #definimos los bordes del tablero\n",
    "    #primero llenamos de ceros, es algo redundante, pero no esta de mas\n",
    "    tablero[:,:] = 0\n",
    "    tablero[0,:] = 9\n",
    "    tablero[9,:] = 9\n",
    "    tablero[:,0] = 9\n",
    "    tablero[:,9] = 9\n",
    "\n",
    "    #ponemos el laberinto correspondiente\n",
    "\n",
    "    paredes_internas = [(4,1), (2,2), (2,4), (2,6), (3,2), (3,6), (3,7), (4,4), (4,5), (5,2), (5,3), (5,7), (6,5), (7,1), (7,3), (7,7), (8,5)]\n",
    "\n",
    "    for px, py in paredes_internas:\n",
    "        tablero[px,py] = 9\n",
    "\n",
    "    #definimos al gato como un 2 en el tablero y al raton como un 1\n",
    "\n",
    "    tablero[ posicion_actual_raton[0] , posicion_actual_raton[1] ] = 1\n",
    "\n",
    "    \n",
    "    tablero[ posicion_actual_gato[0] , posicion_actual_gato[1] ] = 2\n",
    "\n",
    "    #imprimimos el tablero\n",
    "\n",
    "    for fila in tablero:\n",
    "        caracteres = []\n",
    "        for x in fila:\n",
    "            if x == 9:\n",
    "                caracteres.append('🧱')\n",
    "            elif x == 1:\n",
    "                caracteres.append('🐁')\n",
    "            elif x == 2:\n",
    "                caracteres.append('🐈')\n",
    "            else:\n",
    "                caracteres.append('⬛')\n",
    "        print(' '.join(caracteres))\n",
    "    \n",
    "\n",
    "    nueva_posicion_raton = mejor_movimiento_raton(tablero, posicion_actual_gato, posicion_actual_raton)\n",
    "    posicion_actual_raton = nueva_posicion_raton\n",
    "\n",
    "    nueva_posicion_gato = mejor_movimiento_gato(tablero, posicion_actual_gato, posicion_actual_raton)\n",
    "    posicion_actual_gato = nueva_posicion_gato\n",
    "    # nueva_posicion_raton = movimiento_aleatorio_raton(tablero, posicion_actual_raton)\n",
    "    # posicion_actual_raton = list(nueva_posicion_raton)\n",
    "\n",
    "    # nueva_posicion_gato = gato_persigue_linealmente(tablero, posicion_actual_gato, posicion_actual_raton)\n",
    "    # if nueva_posicion_gato[0] == posicion_actual_raton[0] and nueva_posicion_gato[1] == posicion_actual_raton[1]:\n",
    "        \n",
    "    #     print(\"El gato ha ganado\")\n",
    "\n",
    "    #     break\n",
    "\n",
    "    posicion_actual_gato = list(nueva_posicion_gato)\n",
    "\n",
    "    #time.sleep(.5)\n",
    "\n",
    "    \n"
   ]
  }
 ],
 "metadata": {
  "kernelspec": {
   "display_name": "Python 3",
   "language": "python",
   "name": "python3"
  },
  "language_info": {
   "codemirror_mode": {
    "name": "ipython",
    "version": 3
   },
   "file_extension": ".py",
   "mimetype": "text/x-python",
   "name": "python",
   "nbconvert_exporter": "python",
   "pygments_lexer": "ipython3",
   "version": "3.11.8"
  }
 },
 "nbformat": 4,
 "nbformat_minor": 5
}
