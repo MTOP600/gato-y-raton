{
 "cells": [
  {
   "cell_type": "markdown",
   "id": "a6b4c32b",
   "metadata": {},
   "source": [
    "## IMPORTAR LAS LIBRERIAS\n"
   ]
  },
  {
   "cell_type": "code",
   "execution_count": 11,
   "id": "8cc33469",
   "metadata": {},
   "outputs": [],
   "source": [
    "import numpy as np, os, time, random\n",
    "from IPython.display import clear_output\n",
    "import time"
   ]
  },
  {
   "cell_type": "markdown",
   "id": "7a46c90e",
   "metadata": {},
   "source": [
    "## TABLERO DE JUEGO"
   ]
  },
  {
   "cell_type": "code",
   "execution_count": 12,
   "id": "7f608104",
   "metadata": {},
   "outputs": [],
   "source": [
    "tablero = np.zeros((10,10),dtype = int)\n",
    "posicion_actual_gato = [1,1]\n",
    "posicion_actual_raton = [8,8]"
   ]
  },
  {
   "cell_type": "markdown",
   "id": "60633f9a",
   "metadata": {},
   "source": [
    "## DISTANCIA DE MANHHATTAN\n"
   ]
  },
  {
   "cell_type": "code",
   "execution_count": 13,
   "id": "9cefa982",
   "metadata": {},
   "outputs": [],
   "source": [
    "def calcular_distancia_manhhattan(posicion_posible_gato, posicion_actual_raton):\n",
    "    coordenadas_gato = np.array(posicion_posible_gato)\n",
    "    coordenadas_raton = np.array(posicion_actual_raton)\n",
    "    distancia = np.sum(np.abs(coordenadas_gato - coordenadas_raton))\n",
    "    return(distancia)"
   ]
  },
  {
   "cell_type": "markdown",
   "id": "97e3fc12",
   "metadata": {},
   "source": [
    "## FUNCION PARA VER LOS MOVIMIENTOS QUE PUEDE HACER EL RATON\n"
   ]
  },
  {
   "cell_type": "code",
   "execution_count": 14,
   "id": "1907e40b",
   "metadata": {},
   "outputs": [],
   "source": [
    "def movimientos_posibles_raton(tablero_actual, posicion_actual):\n",
    "    direcciones_disponibles = [\n",
    "        (1,0), (-1,0), (0,1), (0,-1),\n",
    "        (1,1), (1,-1), (-1,-1), (-1,1)\n",
    "    ]\n",
    "    \n",
    "    lista_de_movimientos_disponibles = []\n",
    "    \n",
    "    for dx, dy in direcciones_disponibles:\n",
    "        posible_movimiento_x = posicion_actual[0] + dx\n",
    "        posible_movimiento_y = posicion_actual[1] + dy\n",
    "        if (0 <= posible_movimiento_x < 10 and 0 <= posible_movimiento_y < 10 and \n",
    "            tablero_actual[posible_movimiento_x, posible_movimiento_y] != 9):\n",
    "            lista_de_movimientos_disponibles.append((posible_movimiento_x, posible_movimiento_y))\n",
    "    return lista_de_movimientos_disponibles"
   ]
  },
  {
   "cell_type": "markdown",
   "id": "abc5a193",
   "metadata": {},
   "source": [
    "## FUNCION PARA VER LOS MOVIMIENTOS QUE PUEDE HACER EL GATO\n"
   ]
  },
  {
   "cell_type": "code",
   "execution_count": 15,
   "id": "e9d36f35",
   "metadata": {},
   "outputs": [],
   "source": [
    "def movimientos_posibles_gato(tablero, posicion_actual_gato):\n",
    "    direcciones_disponibles = [(2,0), (-2,0), (0,2), (0,-2)]\n",
    "    \n",
    "    lista_de_direcciones_disponibles = []\n",
    "    for dx, dy in direcciones_disponibles:\n",
    "        posible_movimiento_x = posicion_actual_gato[0] + dx\n",
    "        posible_movimiento_y = posicion_actual_gato[1] + dy\n",
    "        if (0 <= posible_movimiento_x < 10 and 0 <= posible_movimiento_y < 10 and\n",
    "            tablero[posible_movimiento_x, posible_movimiento_y] != 9):\n",
    "            lista_de_direcciones_disponibles.append((posible_movimiento_x, posible_movimiento_y))\n",
    "    return lista_de_direcciones_disponibles"
   ]
  },
  {
   "cell_type": "markdown",
   "id": "67c91ba0",
   "metadata": {},
   "source": [
    "## GATO QUE PERSIGUE LINEALMENTE"
   ]
  },
  {
   "cell_type": "code",
   "execution_count": null,
   "id": "3454a732",
   "metadata": {},
   "outputs": [],
   "source": [
    "def gato_persigue_linealmente(tablero, posicion_actual_gato, posicion_actual_raton):\n",
    "    movimientos_posibles = movimientos_posibles_gato(tablero, posicion_actual_gato)\n",
    "    mejor_movimiento = posicion_actual_gato\n",
    "    \n",
    "    mejor_distancia = float('inf')\n",
    "    \n",
    "    for movimiento in movimientos_posibles:\n",
    "        distancia = calcular_distancia_manhhattan(movimiento, posicion_actual_raton)\n",
    "        if distancia < mejor_distancia:\n",
    "            mejor_distancia = distancia\n",
    "            mejor_movimiento = movimiento\n",
    "    \n",
    "    return mejor_movimiento"
   ]
  },
  {
   "cell_type": "markdown",
   "id": "fa4ba714",
   "metadata": {},
   "source": [
    "## RATON QUE SE MUEVE ALEATORIAMENTE\n"
   ]
  },
  {
   "cell_type": "code",
   "execution_count": 17,
   "id": "7ebdecb2",
   "metadata": {},
   "outputs": [],
   "source": [
    "def movimiento_aleatorio_raton(tablero, posicion_actual_raton):\n",
    "    movimientos_posibles = movimientos_posibles_raton(tablero, posicion_actual_raton)\n",
    "    if not movimientos_posibles:\n",
    "        return posicion_actual_raton\n",
    "    movimiento_elegido = random.choice(movimientos_posibles)\n",
    "    return movimiento_elegido"
   ]
  },
  {
   "cell_type": "markdown",
   "id": "39366db8",
   "metadata": {},
   "source": [
    "## MODO DE JUEGO IA BASICA\n"
   ]
  },
  {
   "cell_type": "code",
   "execution_count": 18,
   "id": "1ad558b6",
   "metadata": {},
   "outputs": [
    {
     "name": "stdout",
     "output_type": "stream",
     "text": [
      "🧱 🧱 🧱 🧱 🧱 🧱 🧱 🧱 🧱 🧱\n",
      "🧱 🟨 🟨 🟨 🟨 🟨 🟨 🟨 🟨 🧱\n",
      "🧱 🟨 🧱 🟨 🧱 🟨 🧱 🟨 🟨 🧱\n",
      "🧱 🟨 🧱 🟨 🟨 🟨 🧱 🧱 🟨 🧱\n",
      "🧱 🧱 🟨 🟨 🧱 🧱 🟨 🟨 🟨 🧱\n",
      "🧱 🟨 🧱 🧱 🟨 🟨 🐁 🧱 🟨 🧱\n",
      "🧱 🟨 🟨 🟨 🟨 🧱 🟨 🟨 🟨 🧱\n",
      "🧱 🧱 🟨 🧱 🟨 🐈 🟨 🧱 🟨 🧱\n",
      "🧱 🟨 🟨 🟨 🟨 🧱 🟨 🟨 🟨 🧱\n",
      "🧱 🧱 🧱 🧱 🧱 🧱 🧱 🧱 🧱 🧱\n",
      "<class 'list'>\n",
      "¡El gato atrapó al ratón!\n"
     ]
    }
   ],
   "source": [
    "while True:\n",
    "    clear_output(wait=True)\n",
    "    \n",
    "    tablero[:,:] = 0\n",
    "    tablero[0,:] = 9\n",
    "    tablero[9,:] = 9\n",
    "    tablero[:,0] = 9\n",
    "    tablero[:,9] = 9\n",
    "\n",
    "    paredes_internas = [(4,1), (2,2), (2,4), (2,6), (3,2), (3,6), (3,7), (4,4), (4,5), (5,2), (5,3), (5,7), (6,5), (7,1), (7,3), (7,7), (8,5)]\n",
    "\n",
    "    for px, py in paredes_internas:\n",
    "        tablero[px,py] = 9\n",
    "\n",
    "    tablero[posicion_actual_raton[0], posicion_actual_raton[1]] = 1\n",
    "    tablero[posicion_actual_gato[0], posicion_actual_gato[1]] = 2\n",
    "\n",
    "    for fila in tablero:\n",
    "        caracteres = []\n",
    "        for x in fila:\n",
    "            if x == 9:\n",
    "                caracteres.append('🧱')\n",
    "            elif x == 1:\n",
    "                caracteres.append('🐁')\n",
    "            elif x == 2:\n",
    "                caracteres.append('🐈')\n",
    "            else:\n",
    "                caracteres.append('🟨')\n",
    "        print(' '.join(caracteres))\n",
    "    \n",
    "    nueva_posicion_raton = movimiento_aleatorio_raton(tablero, posicion_actual_raton)\n",
    "    posicion_actual_raton = list(nueva_posicion_raton)\n",
    "\n",
    "    nueva_posicion_gato = gato_persigue_linealmente(tablero, posicion_actual_gato, posicion_actual_raton)\n",
    "    \n",
    "    if nueva_posicion_gato[0] == posicion_actual_raton[0] and nueva_posicion_gato[1] == posicion_actual_raton[1]:\n",
    "        print('¡El gato atrapó al ratón!')\n",
    "        break\n",
    "    \n",
    "    posicion_actual_gato = list(nueva_posicion_gato)\n",
    "    time.sleep(1)"
   ]
  }
 ],
 "metadata": {
  "kernelspec": {
   "display_name": "Python 3",
   "language": "python",
   "name": "python3"
  },
  "language_info": {
   "codemirror_mode": {
    "name": "ipython",
    "version": 3
   },
   "file_extension": ".py",
   "mimetype": "text/x-python",
   "name": "python",
   "nbconvert_exporter": "python",
   "pygments_lexer": "ipython3",
   "version": "3.11.8"
  }
 },
 "nbformat": 4,
 "nbformat_minor": 5
}
