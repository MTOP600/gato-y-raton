{
 "cells": [
  {
   "cell_type": "code",
   "execution_count": 3,
   "id": "441b8d66",
   "metadata": {},
   "outputs": [
    {
     "name": "stdout",
     "output_type": "stream",
     "text": [
      "6\n",
      "5\n",
      "5\n",
      "4\n",
      "4\n",
      "5\n",
      "5\n",
      "6\n"
     ]
    }
   ],
   "source": [
    "import random, numpy as np\n",
    "\n",
    "tamano_tablero = 10\n",
    "tablero = np.zeros((tamano_tablero,tamano_tablero), dtype=int)\n",
    "tablero[0,:] = 9\n",
    "tablero[9,:] = 9\n",
    "tablero[:,0] = 9\n",
    "tablero[:,9] = 9\n",
    "\n",
    "raton = [5,5]\n",
    "\n",
    "# --- MOVIMIENTO DEL RATÓN ---\n",
    "movimientos = [(1,0), (-1,0), (0,1), (0,-1)]  # abajo, arriba, derecha, izquierda\n",
    "random.shuffle(movimientos)  # mezcla para elegir aleatorio\n",
    "\n",
    "\n",
    "for dx, dy in movimientos:\n",
    "    nueva_x = raton[0] + dx\n",
    "    nueva_y = raton[1] + dy\n",
    "\n",
    "    print(nueva_x)\n",
    "    print(nueva_y)\n",
    "\n",
    "#     # Verifica que no choque contra muros (los 9)\n",
    "#     if tablero[nueva_x, nueva_y] != 9:\n",
    "#         raton[0], raton[1] = nueva_x, nueva_y\n",
    "#         break"
   ]
  },
  {
   "cell_type": "code",
   "execution_count": 4,
   "id": "d35da10d",
   "metadata": {},
   "outputs": [
    {
     "name": "stdout",
     "output_type": "stream",
     "text": [
      "[[0 0 0 0 0 0 0 0 0 0]\n",
      " [0 4 0 0 0 0 0 0 0 0]\n",
      " [0 0 0 0 0 0 0 0 0 0]\n",
      " [0 0 0 0 0 0 0 0 0 0]\n",
      " [0 0 0 0 9 0 0 0 0 0]\n",
      " [0 0 0 0 0 9 0 0 0 0]\n",
      " [0 0 0 0 0 0 9 0 0 0]\n",
      " [0 0 0 0 0 0 0 0 0 0]\n",
      " [0 0 0 0 0 0 0 0 5 0]\n",
      " [0 0 0 0 0 0 0 0 0 0]]\n"
     ]
    }
   ],
   "source": [
    "import numpy as np\n",
    "\n",
    "lista = [(4,4),(5,5), (6,6)]\n",
    "\n",
    "tablero = np.zeros((10,10), dtype=int)\n",
    "\n",
    "for ox, oy in lista:\n",
    "    tablero[ox,oy] = 9\n",
    "\n",
    "tablero[1,1] = 4\n",
    "\n",
    "tablero[8,8] = 5\n",
    "\n",
    "print(tablero)\n"
   ]
  },
  {
   "cell_type": "code",
   "execution_count": 6,
   "id": "f130d5bc",
   "metadata": {},
   "outputs": [
    {
     "name": "stdout",
     "output_type": "stream",
     "text": [
      "🧱 🧱 🧱 🧱 🧱 🧱 🧱 🧱 🧱 🧱\n",
      "🧱 🐁 🟨 🟨 🧱 🟨 🟨 🟨 🐈 🧱\n",
      "🧱 🟨 🧱 🟨 🧱 🟨 🧱 🟨 🟨 🧱\n",
      "🧱 🟨 🧱 🟨 🟨 🟨 🧱 🧱 🟨 🧱\n",
      "🧱 🟨 🟨 🟨 🧱 🧱 🟨 🟨 🟨 🧱\n",
      "🧱 🟨 🧱 🧱 🟨 🟨 🟨 🧱 🟨 🧱\n",
      "🧱 🟨 🟨 🟨 🟨 🧱 🟨 🟨 🟨 🧱\n",
      "🧱 🧱 🟨 🧱 🟨 🟨 🟨 🧱 🟨 🧱\n",
      "🧱 🟨 🟨 🟨 🟨 🧱 🟨 🟨 🟨 🧱\n",
      "🧱 🧱 🧱 🧱 🧱 🧱 🧱 🧱 🧱 🧱\n"
     ]
    }
   ],
   "source": [
    "# Laberinto fijo (10x10)\n",
    "tablero = [\n",
    "    [9,9,9,9,9,9,9,9,9,9],\n",
    "    [9,2,0,0,9,0,0,0,3,9],\n",
    "    [9,0,9,0,9,0,9,0,0,9],\n",
    "    [9,0,9,0,0,0,9,9,0,9],\n",
    "    [9,0,0,0,9,9,0,0,0,9],\n",
    "    [9,0,9,9,0,0,0,9,0,9],\n",
    "    [9,0,0,0,0,9,0,0,0,9],\n",
    "    [9,9,0,9,0,0,0,9,0,9],\n",
    "    [9,0,0,0,0,9,0,0,0,9],\n",
    "    [9,9,9,9,9,9,9,9,9,9]\n",
    "]\n",
    "\n",
    "for fila in tablero:\n",
    "    simbolos = []\n",
    "    for x in fila:\n",
    "        if x == 9:\n",
    "            simbolos.append('🧱')\n",
    "        elif x == 2:\n",
    "            simbolos.append('🐁')\n",
    "        elif x == 3:\n",
    "            simbolos.append('🐈')\n",
    "        else:\n",
    "            simbolos.append('🟨')\n",
    "    print(' '.join(simbolos))"
   ]
  }
 ],
 "metadata": {
  "kernelspec": {
   "display_name": "Python 3",
   "language": "python",
   "name": "python3"
  },
  "language_info": {
   "codemirror_mode": {
    "name": "ipython",
    "version": 3
   },
   "file_extension": ".py",
   "mimetype": "text/x-python",
   "name": "python",
   "nbconvert_exporter": "python",
   "pygments_lexer": "ipython3",
   "version": "3.11.8"
  }
 },
 "nbformat": 4,
 "nbformat_minor": 5
}
